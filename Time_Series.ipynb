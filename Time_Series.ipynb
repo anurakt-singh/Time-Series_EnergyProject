{
  "metadata": {
    "kernelspec": {
      "name": "xcpp17",
      "display_name": "C++17",
      "language": "cpp"
    },
    "language_info": {
      "codemirror_mode": "text/x-c++src",
      "file_extension": ".cpp",
      "mimetype": "text/x-c++src",
      "name": "C++",
      "version": "17"
    }
  },
  "nbformat_minor": 5,
  "nbformat": 4,
  "cells": [
    {
      "id": "92e7cc76-a6d1-42dd-b609-030164ffba78",
      "cell_type": "code",
      "source": "import pandas as pd\nimport numpy as np\nimport matplotlib.pyplot as plt\nimport seaborn as sns\n\nimport xgboost as xgb\nfrom sklearn.metrics import mean_squared_error\ncolor_pal = sns.color_palette()\nplt.style.use('fivethirtyeight')",
      "metadata": {
        "trusted": true
      },
      "outputs": [],
      "execution_count": null
    },
    {
      "id": "c75fdbcf-8860-4402-8139-3b81a3bd5b3f",
      "cell_type": "code",
      "source": "df = pd.read_csv('/content/AEP_hourly.csv')\ndf = df.set_index('Datetime')\ndf.index = pd.to_datetime(df.index)",
      "metadata": {
        "trusted": true
      },
      "outputs": [],
      "execution_count": null
    },
    {
      "id": "c69e7ba3-f71e-4461-8ddd-2923971239e8",
      "cell_type": "code",
      "source": "df.plot(style='.',\n        figsize=(15, 5),\n        color=color_pal[0],\n        title='PJME Energy Use in MW')\nplt.show()",
      "metadata": {
        "trusted": true
      },
      "outputs": [],
      "execution_count": null
    },
    {
      "id": "cb7ddae7-2e0a-4377-9eac-5a200bc1ba88",
      "cell_type": "code",
      "source": "//Train-Test Split\ntrain = df.loc[df.index < '01-01-2015']\ntest = df.loc[df.index >= '01-01-2015']\n\nfig, ax = plt.subplots(figsize=(15, 5))\ntrain.plot(ax=ax, label='Training Set', title='Data Train/Test Split')\ntest.plot(ax=ax, label='Test Set')\nax.axvline('01-01-2015', color='black', ls='--')\nax.legend(['Training Set', 'Test Set'])\nplt.show()",
      "metadata": {
        "trusted": true
      },
      "outputs": [],
      "execution_count": null
    },
    {
      "id": "53a30b38-3aa6-4731-ab3f-36163b889249",
      "cell_type": "code",
      "source": "df.loc[(df.index > '01-01-2010') & (df.index < '01-08-2010')] \\\n    .plot(figsize=(15, 5), title='Week Of Data')\nplt.show()",
      "metadata": {
        "trusted": true
      },
      "outputs": [],
      "execution_count": null
    },
    {
      "id": "f6571d40-99b3-44f0-8d21-4c128246f47a",
      "cell_type": "code",
      "source": "//Feature Creation\ndef create_features(df):\n    \"\"\"\n    Create time series features based on time series index.\n    \"\"\"\n    df = df.copy()\n    df['hour'] = df.index.hour\n    df['dayofweek'] = df.index.dayofweek\n    df['quarter'] = df.index.quarter\n    df['month'] = df.index.month\n    df['year'] = df.index.year\n    df['dayofyear'] = df.index.dayofyear\n    df['dayofmonth'] = df.index.day\n    df['weekofyear'] = df.index.isocalendar().week\n    return df\n\ndf = create_features(df)",
      "metadata": {
        "trusted": true
      },
      "outputs": [],
      "execution_count": null
    },
    {
      "id": "238621f8-6eca-46e8-9048-ca6bc2a588d6",
      "cell_type": "code",
      "source": "fig, ax = plt.subplots(figsize=(10, 8))\nsns.boxplot(data=df, x='hour', y='PJME_MW')\nax.set_title('MW by Hour')\nplt.show()",
      "metadata": {
        "trusted": true
      },
      "outputs": [],
      "execution_count": null
    },
    {
      "id": "a1f9a923-cf81-4c6d-9a55-0392626b91d4",
      "cell_type": "code",
      "source": "fig, ax = plt.subplots(figsize=(10, 8))\nsns.boxplot(data=df, x='month', y='PJME_MW', palette='Blues')\nax.set_title('MW by Month')\nplt.show()",
      "metadata": {
        "trusted": true
      },
      "outputs": [],
      "execution_count": null
    },
    {
      "id": "330b51a2-ad61-4615-b1d4-aa9371b3a007",
      "cell_type": "code",
      "source": "//Model Creation\ntrain = create_features(train)\ntest = create_features(test)\n\nFEATURES = ['dayofyear', 'hour', 'dayofweek', 'quarter', 'month', 'year']\nTARGET = 'PJME_MW'\n\nX_train = train[FEATURES]\ny_train = train[TARGET]\n\nX_test = test[FEATURES]\ny_test = test[TARGET]",
      "metadata": {
        "trusted": true
      },
      "outputs": [],
      "execution_count": null
    },
    {
      "id": "a8d3b10e-d2bf-449b-b968-1eff7b979e60",
      "cell_type": "code",
      "source": "reg = xgb.XGBRegressor(base_score=0.5, booster='gbtree',    \n                       n_estimators=1000,\n                       early_stopping_rounds=50,\n                       objective='reg:linear',\n                       max_depth=3,\n                       learning_rate=0.01)\nreg.fit(X_train, y_train,\n        eval_set=[(X_train, y_train), (X_test, y_test)],\n        verbose=100)",
      "metadata": {
        "trusted": true
      },
      "outputs": [],
      "execution_count": null
    },
    {
      "id": "8056e54f-41e1-407f-83a4-6d065c283941",
      "cell_type": "code",
      "source": "fi = pd.DataFrame(data=reg.feature_importances_,\n             index=reg.feature_names_in_,\n             columns=['importance'])\nfi.sort_values('importance').plot(kind='barh', title='Feature Importance')\nplt.show()",
      "metadata": {
        "trusted": true
      },
      "outputs": [],
      "execution_count": null
    },
    {
      "id": "b003ece8-2290-467a-ae33-55d5854fafbd",
      "cell_type": "code",
      "source": "test['prediction'] = reg.predict(X_test)\ndf = df.merge(test[['prediction']], how='left', left_index=True, right_index=True)\nax = df[['PJME_MW']].plot(figsize=(15, 5))\ndf['prediction'].plot(ax=ax, style='.')\nplt.legend(['Truth Data', 'Predictions'])\nax.set_title('Raw Dat and Prediction')\nplt.show()",
      "metadata": {
        "trusted": true
      },
      "outputs": [],
      "execution_count": null
    },
    {
      "id": "a2d14cde-9753-41f8-9639-2bf2ce5b5618",
      "cell_type": "code",
      "source": "ax = df.loc[(df.index > '04-01-2018') & (df.index < '04-08-2018')]['PJME_MW'] \\\n    .plot(figsize=(15, 5), title='Week Of Data')\ndf.loc[(df.index > '04-01-2018') & (df.index < '04-08-2018')]['prediction'] \\\n    .plot(style='.')\nplt.legend(['Truth Data','Prediction'])\nplt.show()",
      "metadata": {
        "trusted": true
      },
      "outputs": [],
      "execution_count": null
    },
    {
      "id": "5534e94d-89ae-45a0-8b1b-3b8d20fbbff7",
      "cell_type": "code",
      "source": "score = np.sqrt(mean_squared_error(test['PJME_MW'], test['prediction']))\nprint(f'RMSE Score on Test set: {score:0.2f}')",
      "metadata": {
        "trusted": true
      },
      "outputs": [],
      "execution_count": null
    },
    {
      "id": "1a05a436-8471-427f-b821-e7a4daff187d",
      "cell_type": "code",
      "source": "test['error'] = np.abs(test[TARGET] - test['prediction'])\ntest['date'] = test.index.date\ntest.groupby(['date'])['error'].mean().sort_values(ascending=False).head(10)",
      "metadata": {
        "trusted": true
      },
      "outputs": [],
      "execution_count": null
    }
  ]
}